{
 "cells": [
  {
   "cell_type": "markdown",
   "metadata": {
    "papermill": {
     "duration": 0.016724,
     "end_time": "2021-02-08T05:35:47.866534",
     "exception": false,
     "start_time": "2021-02-08T05:35:47.849810",
     "status": "completed"
    },
    "tags": []
   },
   "source": [
    "# Importing Libraries"
   ]
  },
  {
   "cell_type": "code",
   "execution_count": 1,
   "metadata": {
    "execution": {
     "iopub.execute_input": "2021-02-08T05:35:47.906449Z",
     "iopub.status.busy": "2021-02-08T05:35:47.905793Z",
     "iopub.status.idle": "2021-02-08T05:35:49.315377Z",
     "shell.execute_reply": "2021-02-08T05:35:49.314733Z"
    },
    "papermill": {
     "duration": 1.433628,
     "end_time": "2021-02-08T05:35:49.315719",
     "exception": false,
     "start_time": "2021-02-08T05:35:47.882091",
     "status": "completed"
    },
    "tags": []
   },
   "outputs": [
    {
     "data": {
      "text/plain": [
       "<torch._C.Generator at 0x17d080ab030>"
      ]
     },
     "execution_count": 1,
     "metadata": {},
     "output_type": "execute_result"
    }
   ],
   "source": [
    "%matplotlib inline\n",
    "\n",
    "import os\n",
    "import shutil\n",
    "import random\n",
    "import torch\n",
    "import torchvision\n",
    "import numpy as np\n",
    "import torch.nn as nn\n",
    "\n",
    "from PIL import Image\n",
    "from matplotlib import pyplot as plt\n",
    "\n",
    "torch.manual_seed(0)"
   ]
  },
  {
   "cell_type": "markdown",
   "metadata": {
    "papermill": {
     "duration": 0.01609,
     "end_time": "2021-02-08T05:35:49.347981",
     "exception": false,
     "start_time": "2021-02-08T05:35:49.331891",
     "status": "completed"
    },
    "tags": []
   },
   "source": [
    "# Preparing Training and Test Sets"
   ]
  },
  {
   "cell_type": "code",
   "execution_count": 2,
   "metadata": {
    "execution": {
     "iopub.execute_input": "2021-02-08T05:35:49.395208Z",
     "iopub.status.busy": "2021-02-08T05:35:49.394453Z",
     "iopub.status.idle": "2021-02-08T05:36:44.406152Z",
     "shell.execute_reply": "2021-02-08T05:36:44.405383Z"
    },
    "papermill": {
     "duration": 55.041962,
     "end_time": "2021-02-08T05:36:44.406303",
     "exception": false,
     "start_time": "2021-02-08T05:35:49.364341",
     "status": "completed"
    },
    "tags": []
   },
   "outputs": [],
   "source": [
    "from distutils.dir_util import copy_tree\n",
    "\n",
    "\n",
    "directory = './data/COVID-19_Radiography_Dataset'\n",
    "\n",
    "source_dirs = ['NORMAL', 'Viral Pneumonia', 'COVID','Lung_Opacity']\n",
    "input_dir = './train'\n",
    "output_dir = './test'\n",
    "root_dir = './train/COVID-19_Radiography_Dataset'\n",
    "\n",
    "\n",
    "\n",
    "if os.path.isdir(os.path.join(directory, source_dirs[1])):\n",
    "    if not os.path.isdir(input_dir):\n",
    "        os.mkdir(input_dir)\n",
    "        copy_tree(directory, input_dir)\n",
    "    if not os.path.isdir(output_dir):\n",
    "        os.mkdir(output_dir)\n",
    "        \n",
    "    for c in source_dirs:\n",
    "        if not os.path.isdir(os.path.join(output_dir, c)):\n",
    "            os.mkdir(os.path.join(output_dir, c))\n",
    "            \n",
    "    for c in source_dirs:\n",
    "        images = [x for x in os.listdir(os.path.join(input_dir, c)) if x.lower().endswith('png')]\n",
    "        selected_images = random.sample(images, 30)\n",
    "        for image in selected_images:\n",
    "            source_path = os.path.join(input_dir, c, image)\n",
    "            target_path = os.path.join(output_dir, c, image)\n",
    "            shutil.move(source_path, target_path)\n"
   ]
  },
  {
   "cell_type": "markdown",
   "metadata": {
    "papermill": {
     "duration": 0.015327,
     "end_time": "2021-02-08T05:36:44.437594",
     "exception": false,
     "start_time": "2021-02-08T05:36:44.422267",
     "status": "completed"
    },
    "tags": []
   },
   "source": [
    "# Creating Custom Dataset"
   ]
  },
  {
   "cell_type": "code",
   "execution_count": 3,
   "metadata": {
    "execution": {
     "iopub.execute_input": "2021-02-08T05:36:44.480209Z",
     "iopub.status.busy": "2021-02-08T05:36:44.479478Z",
     "iopub.status.idle": "2021-02-08T05:36:44.482939Z",
     "shell.execute_reply": "2021-02-08T05:36:44.482362Z"
    },
    "papermill": {
     "duration": 0.030018,
     "end_time": "2021-02-08T05:36:44.483080",
     "exception": false,
     "start_time": "2021-02-08T05:36:44.453062",
     "status": "completed"
    },
    "tags": []
   },
   "outputs": [],
   "source": [
    "class ChestXRayDataset(torch.utils.data.Dataset):\n",
    "    def __init__(self, image_dirs, transform):\n",
    "        def get_images(class_name):\n",
    "            images = [x for x in os.listdir(image_dirs[class_name]) if x.lower().endswith('png')]\n",
    "            print(f'Found {len(images)} {class_name} examples')\n",
    "            return images\n",
    "        \n",
    "        self.images = {}\n",
    "        self.class_names = ['Normal', 'Viral', 'COVID-19','Lung_Opacity']\n",
    "        \n",
    "        for class_name in self.class_names:\n",
    "            self.images[class_name] = get_images(class_name)\n",
    "            \n",
    "        self.image_dirs = image_dirs\n",
    "        self.transform = transform\n",
    "        \n",
    "    \n",
    "    def __len__(self):\n",
    "        return sum([len(self.images[class_name]) for class_name in self.class_names])\n",
    "    \n",
    "    \n",
    "    def __getitem__(self, index):\n",
    "        class_name = random.choice(self.class_names)\n",
    "        index = index % len(self.images[class_name])\n",
    "        image_name = self.images[class_name][index]\n",
    "        image_path = os.path.join(self.image_dirs[class_name], image_name)\n",
    "        image = Image.open(image_path).convert('RGB')\n",
    "        return self.transform(image), self.class_names.index(class_name)"
   ]
  },
  {
   "cell_type": "markdown",
   "metadata": {
    "papermill": {
     "duration": 0.015598,
     "end_time": "2021-02-08T05:36:44.514981",
     "exception": false,
     "start_time": "2021-02-08T05:36:44.499383",
     "status": "completed"
    },
    "tags": []
   },
   "source": [
    "# Image Transformations"
   ]
  },
  {
   "cell_type": "code",
   "execution_count": 4,
   "metadata": {
    "execution": {
     "iopub.execute_input": "2021-02-08T05:36:44.554916Z",
     "iopub.status.busy": "2021-02-08T05:36:44.554067Z",
     "iopub.status.idle": "2021-02-08T05:36:44.557606Z",
     "shell.execute_reply": "2021-02-08T05:36:44.558069Z"
    },
    "papermill": {
     "duration": 0.027531,
     "end_time": "2021-02-08T05:36:44.558247",
     "exception": false,
     "start_time": "2021-02-08T05:36:44.530716",
     "status": "completed"
    },
    "tags": []
   },
   "outputs": [],
   "source": [
    "# All pre-trained models expect input images normalized in the same way,\n",
    "# i.e. mini-batches of 3-channel RGB images of shape (3 x H x W), \n",
    "# where H and W are expected to be at least 224. \n",
    "# The images have to be loaded in to a range of [0, 1] and then normalized using \n",
    "# mean = [0.485, 0.456, 0.406] and std = [0.229, 0.224, 0.225].\n",
    "\n",
    "#Creating a Transformation Object\n",
    "train_transform = torchvision.transforms.Compose([\n",
    "    #Converting images to the size that the model expects\n",
    "    torchvision.transforms.Resize(size=(224,224)),\n",
    "    torchvision.transforms.RandomHorizontalFlip(), #A RandomHorizontalFlip to augment our data\n",
    "    torchvision.transforms.ToTensor(), #Converting to tensor    \n",
    "    torchvision.transforms.Normalize(mean = [0.485, 0.456, 0.406],\n",
    "                                    std = [0.229, 0.224, 0.225]) #Normalizing the data to the data that the ResNet18 was trained on\n",
    "    \n",
    "])"
   ]
  },
  {
   "cell_type": "code",
   "execution_count": 5,
   "metadata": {
    "execution": {
     "iopub.execute_input": "2021-02-08T05:36:44.596926Z",
     "iopub.status.busy": "2021-02-08T05:36:44.595928Z",
     "iopub.status.idle": "2021-02-08T05:36:44.599273Z",
     "shell.execute_reply": "2021-02-08T05:36:44.598746Z"
    },
    "papermill": {
     "duration": 0.025179,
     "end_time": "2021-02-08T05:36:44.599410",
     "exception": false,
     "start_time": "2021-02-08T05:36:44.574231",
     "status": "completed"
    },
    "tags": []
   },
   "outputs": [],
   "source": [
    "#Creating a Transformation Object\n",
    "test_transform = torchvision.transforms.Compose([\n",
    "    #Converting images to the size that the model expects\n",
    "    torchvision.transforms.Resize(size=(224,224)),\n",
    "# We don't do data augmentation in the test/val set    \n",
    "    torchvision.transforms.ToTensor(), #Converting to tensor\n",
    "    torchvision.transforms.Normalize(mean = [0.485, 0.456, 0.406],\n",
    "                                    std = [0.229, 0.224, 0.225]) #Normalizing the data to the data that the ResNet18 was trained on\n",
    "    \n",
    "])"
   ]
  },
  {
   "cell_type": "markdown",
   "metadata": {
    "papermill": {
     "duration": 0.015665,
     "end_time": "2021-02-08T05:36:44.631234",
     "exception": false,
     "start_time": "2021-02-08T05:36:44.615569",
     "status": "completed"
    },
    "tags": []
   },
   "source": [
    "# Prepare DataLoader\n"
   ]
  },
  {
   "cell_type": "code",
   "execution_count": 6,
   "metadata": {
    "execution": {
     "iopub.execute_input": "2021-02-08T05:36:44.668756Z",
     "iopub.status.busy": "2021-02-08T05:36:44.668085Z",
     "iopub.status.idle": "2021-02-08T05:36:44.677858Z",
     "shell.execute_reply": "2021-02-08T05:36:44.677263Z"
    },
    "papermill": {
     "duration": 0.030627,
     "end_time": "2021-02-08T05:36:44.677998",
     "exception": false,
     "start_time": "2021-02-08T05:36:44.647371",
     "status": "completed"
    },
    "tags": []
   },
   "outputs": [
    {
     "name": "stdout",
     "output_type": "stream",
     "text": [
      "Found 9832 Normal examples\n",
      "Found 985 Viral examples\n",
      "Found 3256 COVID-19 examples\n",
      "Found 5742 Lung_Opacity examples\n"
     ]
    }
   ],
   "source": [
    "train_dirs = {\n",
    "    'Normal': input_dir + '/NORMAL',\n",
    "    'Viral': input_dir + '/Viral Pneumonia',\n",
    "    'COVID-19': input_dir + '/COVID',\n",
    "    'Lung_Opacity': input_dir + '/Lung_Opacity'\n",
    "}\n",
    "\n",
    "train_dataset = ChestXRayDataset(train_dirs, train_transform)"
   ]
  },
  {
   "cell_type": "code",
   "execution_count": 7,
   "metadata": {
    "execution": {
     "iopub.execute_input": "2021-02-08T05:36:44.716408Z",
     "iopub.status.busy": "2021-02-08T05:36:44.715784Z",
     "iopub.status.idle": "2021-02-08T05:36:44.721268Z",
     "shell.execute_reply": "2021-02-08T05:36:44.720716Z"
    },
    "papermill": {
     "duration": 0.026826,
     "end_time": "2021-02-08T05:36:44.721404",
     "exception": false,
     "start_time": "2021-02-08T05:36:44.694578",
     "status": "completed"
    },
    "tags": []
   },
   "outputs": [
    {
     "name": "stdout",
     "output_type": "stream",
     "text": [
      "Found 360 Normal examples\n",
      "Found 360 Viral examples\n",
      "Found 360 COVID-19 examples\n",
      "Found 270 Lung_Opacity examples\n"
     ]
    }
   ],
   "source": [
    "test_dirs = {\n",
    "    'Normal': output_dir + '/NORMAL',\n",
    "    'Viral': output_dir + '/Viral Pneumonia',    \n",
    "    'COVID-19': output_dir + '/COVID',\n",
    "    'Lung_Opacity': output_dir + '/Lung_Opacity',\n",
    "}\n",
    "\n",
    "test_dataset = ChestXRayDataset(test_dirs, test_transform)"
   ]
  },
  {
   "cell_type": "code",
   "execution_count": 8,
   "metadata": {
    "execution": {
     "iopub.execute_input": "2021-02-08T05:36:44.761738Z",
     "iopub.status.busy": "2021-02-08T05:36:44.761086Z",
     "iopub.status.idle": "2021-02-08T05:36:44.765951Z",
     "shell.execute_reply": "2021-02-08T05:36:44.766448Z"
    },
    "papermill": {
     "duration": 0.028395,
     "end_time": "2021-02-08T05:36:44.766666",
     "exception": false,
     "start_time": "2021-02-08T05:36:44.738271",
     "status": "completed"
    },
    "tags": []
   },
   "outputs": [
    {
     "name": "stdout",
     "output_type": "stream",
     "text": [
      "Num of training batches 3303\n",
      "Num of test batches 225\n"
     ]
    }
   ],
   "source": [
    "batch_size = 6\n",
    "\n",
    "dl_train = torch.utils.data.DataLoader(train_dataset, batch_size=batch_size, shuffle=True)\n",
    "\n",
    "dl_test = torch.utils.data.DataLoader(test_dataset, batch_size=batch_size, shuffle=True)\n",
    "\n",
    "print('Num of training batches', len(dl_train))\n",
    "print('Num of test batches', len(dl_test))"
   ]
  },
  {
   "cell_type": "markdown",
   "metadata": {
    "papermill": {
     "duration": 0.017226,
     "end_time": "2021-02-08T05:36:44.801697",
     "exception": false,
     "start_time": "2021-02-08T05:36:44.784471",
     "status": "completed"
    },
    "tags": []
   },
   "source": [
    "# Data Visualization"
   ]
  },
  {
   "cell_type": "code",
   "execution_count": 9,
   "metadata": {
    "execution": {
     "iopub.execute_input": "2021-02-08T05:36:44.846854Z",
     "iopub.status.busy": "2021-02-08T05:36:44.845848Z",
     "iopub.status.idle": "2021-02-08T05:36:44.849041Z",
     "shell.execute_reply": "2021-02-08T05:36:44.848401Z"
    },
    "papermill": {
     "duration": 0.030099,
     "end_time": "2021-02-08T05:36:44.849179",
     "exception": false,
     "start_time": "2021-02-08T05:36:44.819080",
     "status": "completed"
    },
    "tags": []
   },
   "outputs": [],
   "source": [
    "class_names = train_dataset.class_names\n",
    "\n",
    "def show_images(images,labels, preds):\n",
    "    plt.figure(figsize=(8,4))\n",
    "    \n",
    "    for i, image in enumerate(images):\n",
    "        plt.subplot(1, 6, i + 1, xticks = [], yticks =[]) # x & y ticks are set to blank\n",
    "        image = image.numpy().transpose((1, 2, 0)) # Channel first then height and width\n",
    "        mean = np.array([0.485, 0.456, 0.406])\n",
    "        std = np.array([0.229, 0.224, 0.225])\n",
    "        image = image * std + mean\n",
    "        image = np.clip(image, 0., 1.)\n",
    "        plt.imshow(image)\n",
    "        \n",
    "        col = 'green' if preds[i] == labels[i] else 'red'\n",
    "        \n",
    "        plt.xlabel(f'{class_names[int(labels[i].numpy())]}')\n",
    "        plt.ylabel(f'{class_names[int(preds[i].numpy())]}', color=col)\n",
    "    plt.tight_layout()\n",
    "    plt.show()"
   ]
  },
  {
   "cell_type": "code",
   "execution_count": 10,
   "metadata": {
    "execution": {
     "iopub.execute_input": "2021-02-08T05:36:44.891284Z",
     "iopub.status.busy": "2021-02-08T05:36:44.890255Z",
     "iopub.status.idle": "2021-02-08T05:36:45.648753Z",
     "shell.execute_reply": "2021-02-08T05:36:45.648172Z"
    },
    "papermill": {
     "duration": 0.782171,
     "end_time": "2021-02-08T05:36:45.648899",
     "exception": false,
     "start_time": "2021-02-08T05:36:44.866728",
     "status": "completed"
    },
    "tags": []
   },
   "outputs": [
    {
     "data": {
      "image/png": "[encoded data removed]",
      "text/plain": [
       "<Figure size 576x288 with 6 Axes>"
      ]
     },
     "metadata": {},
     "output_type": "display_data"
    }
   ],
   "source": [
    "images, labels = next(iter(dl_train)) #Fetch the next batch of images\n",
    "show_images(images, labels, labels)"
   ]
  },
  {
   "cell_type": "code",
   "execution_count": 11,
   "metadata": {
    "execution": {
     "iopub.execute_input": "2021-02-08T05:36:45.693567Z",
     "iopub.status.busy": "2021-02-08T05:36:45.692899Z",
     "iopub.status.idle": "2021-02-08T05:36:46.201749Z",
     "shell.execute_reply": "2021-02-08T05:36:46.201209Z"
    },
    "papermill": {
     "duration": 0.532994,
     "end_time": "2021-02-08T05:36:46.201885",
     "exception": false,
     "start_time": "2021-02-08T05:36:45.668891",
     "status": "completed"
    },
    "tags": []
   },
   "outputs": [
    {
     "data": {
      "image/png": "[encoded data removed]",
      "text/plain": [
       "<Figure size 576x288 with 6 Axes>"
      ]
     },
     "metadata": {},
     "output_type": "display_data"
    }
   ],
   "source": [
    "images, labels = next(iter(dl_test))\n",
    "show_images(images, labels, labels)"
   ]
  },
  {
   "cell_type": "markdown",
   "metadata": {
    "papermill": {
     "duration": 0.020311,
     "end_time": "2021-02-08T05:36:46.242997",
     "exception": false,
     "start_time": "2021-02-08T05:36:46.222686",
     "status": "completed"
    },
    "tags": []
   },
   "source": [
    "# Creating the Model"
   ]
  },
  {
   "cell_type": "code",
   "execution_count": 12,
   "metadata": {
    "execution": {
     "iopub.execute_input": "2021-02-08T05:36:46.293374Z",
     "iopub.status.busy": "2021-02-08T05:36:46.292646Z",
     "iopub.status.idle": "2021-02-08T05:36:47.950585Z",
     "shell.execute_reply": "2021-02-08T05:36:47.949597Z"
    },
    "papermill": {
     "duration": 1.6869,
     "end_time": "2021-02-08T05:36:47.950758",
     "exception": false,
     "start_time": "2021-02-08T05:36:46.263858",
     "status": "completed"
    },
    "tags": []
   },
   "outputs": [],
   "source": [
    "# #for resnet\n",
    "# model = torchvision.models.resnet18(pretrained=True) #resnet18 is a small CNN that we can train quickly giving us decent results\n",
    "# #Changing the last fc to 4 output features\n",
    "# model.fc = torch.nn.Linear(in_features=512, out_features=4)"
   ]
  },
  {
   "cell_type": "code",
   "execution_count": 13,
   "metadata": {},
   "outputs": [],
   "source": [
    "# for densenet\n",
    "model = torchvision.models.densenet121(pretrained=True)\n",
    "#Changing the last fc to 4 output features\n",
    "model.classifier = nn.Linear(in_features=1024, out_features=4)"
   ]
  },
  {
   "cell_type": "code",
   "execution_count": 32,
   "metadata": {
    "execution": {
     "iopub.execute_input": "2021-02-08T05:36:48.135952Z",
     "iopub.status.busy": "2021-02-08T05:36:48.135248Z",
     "iopub.status.idle": "2021-02-08T05:36:48.139033Z",
     "shell.execute_reply": "2021-02-08T05:36:48.138360Z"
    },
    "papermill": {
     "duration": 0.078191,
     "end_time": "2021-02-08T05:36:48.139177",
     "exception": false,
     "start_time": "2021-02-08T05:36:48.060986",
     "status": "completed"
    },
    "tags": []
   },
   "outputs": [],
   "source": [
    "\n",
    "loss_fn = torch.nn.CrossEntropyLoss()\n",
    "\n",
    "optimizer = torch.optim.Adam(model.parameters(), lr=3e-5) #To find optimum learning rate 1. Trial/Error 2. Hyperparameter search"
   ]
  },
  {
   "cell_type": "code",
   "execution_count": 33,
   "metadata": {},
   "outputs": [
    {
     "name": "stdout",
     "output_type": "stream",
     "text": [
      "Let's use 2 GPUs!\n"
     ]
    },
    {
     "data": {
      "text/plain": [
       "DataParallel(\n",
       "  (module): VGG(\n",
       "    (features): Sequential(\n",
       "      (0): Conv2d(3, 64, kernel_size=(3, 3), stride=(1, 1), padding=(1, 1))\n",
       "      (1): ReLU(inplace=True)\n",
       "      (2): Conv2d(64, 64, kernel_size=(3, 3), stride=(1, 1), padding=(1, 1))\n",
       "      (3): ReLU(inplace=True)\n",
       "      (4): MaxPool2d(kernel_size=2, stride=2, padding=0, dilation=1, ceil_mode=False)\n",
       "      (5): Conv2d(64, 128, kernel_size=(3, 3), stride=(1, 1), padding=(1, 1))\n",
       "      (6): ReLU(inplace=True)\n",
       "      (7): Conv2d(128, 128, kernel_size=(3, 3), stride=(1, 1), padding=(1, 1))\n",
       "      (8): ReLU(inplace=True)\n",
       "      (9): MaxPool2d(kernel_size=2, stride=2, padding=0, dilation=1, ceil_mode=False)\n",
       "      (10): Conv2d(128, 256, kernel_size=(3, 3), stride=(1, 1), padding=(1, 1))\n",
       "      (11): ReLU(inplace=True)\n",
       "      (12): Conv2d(256, 256, kernel_size=(3, 3), stride=(1, 1), padding=(1, 1))\n",
       "      (13): ReLU(inplace=True)\n",
       "      (14): Conv2d(256, 256, kernel_size=(3, 3), stride=(1, 1), padding=(1, 1))\n",
       "      (15): ReLU(inplace=True)\n",
       "      (16): Conv2d(256, 256, kernel_size=(3, 3), stride=(1, 1), padding=(1, 1))\n",
       "      (17): ReLU(inplace=True)\n",
       "      (18): MaxPool2d(kernel_size=2, stride=2, padding=0, dilation=1, ceil_mode=False)\n",
       "      (19): Conv2d(256, 512, kernel_size=(3, 3), stride=(1, 1), padding=(1, 1))\n",
       "      (20): ReLU(inplace=True)\n",
       "      (21): Conv2d(512, 512, kernel_size=(3, 3), stride=(1, 1), padding=(1, 1))\n",
       "      (22): ReLU(inplace=True)\n",
       "      (23): Conv2d(512, 512, kernel_size=(3, 3), stride=(1, 1), padding=(1, 1))\n",
       "      (24): ReLU(inplace=True)\n",
       "      (25): Conv2d(512, 512, kernel_size=(3, 3), stride=(1, 1), padding=(1, 1))\n",
       "      (26): ReLU(inplace=True)\n",
       "      (27): MaxPool2d(kernel_size=2, stride=2, padding=0, dilation=1, ceil_mode=False)\n",
       "      (28): Conv2d(512, 512, kernel_size=(3, 3), stride=(1, 1), padding=(1, 1))\n",
       "      (29): ReLU(inplace=True)\n",
       "      (30): Conv2d(512, 512, kernel_size=(3, 3), stride=(1, 1), padding=(1, 1))\n",
       "      (31): ReLU(inplace=True)\n",
       "      (32): Conv2d(512, 512, kernel_size=(3, 3), stride=(1, 1), padding=(1, 1))\n",
       "      (33): ReLU(inplace=True)\n",
       "      (34): Conv2d(512, 512, kernel_size=(3, 3), stride=(1, 1), padding=(1, 1))\n",
       "      (35): ReLU(inplace=True)\n",
       "      (36): MaxPool2d(kernel_size=2, stride=2, padding=0, dilation=1, ceil_mode=False)\n",
       "    )\n",
       "    (avgpool): AdaptiveAvgPool2d(output_size=(7, 7))\n",
       "    (classifier): Sequential(\n",
       "      (0): Linear(in_features=25088, out_features=4096, bias=True)\n",
       "      (1): ReLU(inplace=True)\n",
       "      (2): Dropout(p=0.5, inplace=False)\n",
       "      (3): Linear(in_features=4096, out_features=4096, bias=True)\n",
       "      (4): ReLU(inplace=True)\n",
       "      (5): Dropout(p=0.5, inplace=False)\n",
       "      (6): Linear(in_features=4096, out_features=1000, bias=True)\n",
       "    )\n",
       "    (fc): Linear(in_features=1000, out_features=4, bias=True)\n",
       "  )\n",
       ")"
      ]
     },
     "execution_count": 33,
     "metadata": {},
     "output_type": "execute_result"
    }
   ],
   "source": [
    "device = torch.device(\"cuda:0\" if torch.cuda.is_available() else \"cpu\")\n",
    "\n",
    "if torch.cuda.device_count() > 1:\n",
    "    print(\"Let's use\", torch.cuda.device_count(), \"GPUs!\")\n",
    "    # dim = 0 [30, xxx] -> [10, ...], [10, ...], [10, ...] on 3 GPUs\n",
    "    model = nn.DataParallel(model)\n",
    "\n",
    "model.to(device)"
   ]
  },
  {
   "cell_type": "code",
   "execution_count": 34,
   "metadata": {
    "execution": {
     "iopub.execute_input": "2021-02-08T05:36:48.260866Z",
     "iopub.status.busy": "2021-02-08T05:36:48.260211Z",
     "iopub.status.idle": "2021-02-08T05:36:48.263477Z",
     "shell.execute_reply": "2021-02-08T05:36:48.262910Z"
    },
    "papermill": {
     "duration": 0.03409,
     "end_time": "2021-02-08T05:36:48.263638",
     "exception": false,
     "start_time": "2021-02-08T05:36:48.229548",
     "status": "completed"
    },
    "tags": []
   },
   "outputs": [],
   "source": [
    "def show_preds():\n",
    "    model.eval()  #Setting the model to evaluation mode\n",
    "    images, labels = next(iter(dl_test))\n",
    "    outputs = model(images)\n",
    "    if torch.cuda.device_count() > 1:\n",
    "        outputs = outputs.cpu() \n",
    "    _, preds = torch.max(outputs, 1)\n",
    "    #print(images)\n",
    "    #print(labels)\n",
    "    #print(preds)\n",
    "    show_images(images, labels, preds)"
   ]
  },
  {
   "cell_type": "code",
   "execution_count": 35,
   "metadata": {
    "execution": {
     "iopub.execute_input": "2021-02-08T05:36:48.311078Z",
     "iopub.status.busy": "2021-02-08T05:36:48.310352Z",
     "iopub.status.idle": "2021-02-08T05:36:49.265568Z",
     "shell.execute_reply": "2021-02-08T05:36:49.266081Z"
    },
    "papermill": {
     "duration": 0.98045,
     "end_time": "2021-02-08T05:36:49.266249",
     "exception": false,
     "start_time": "2021-02-08T05:36:48.285799",
     "status": "completed"
    },
    "tags": []
   },
   "outputs": [
    {
     "ename": "IndexError",
     "evalue": "list index out of range",
     "output_type": "error",
     "traceback": [
      "\u001b[1;31m---------------------------------------------------------------------------\u001b[0m",
      "\u001b[1;31mIndexError\u001b[0m                                Traceback (most recent call last)",
      "\u001b[1;32m<ipython-input-35-cb90ecee3bbb>\u001b[0m in \u001b[0;36m<module>\u001b[1;34m\u001b[0m\n\u001b[1;32m----> 1\u001b[1;33m \u001b[0mshow_preds\u001b[0m\u001b[1;33m(\u001b[0m\u001b[1;33m)\u001b[0m\u001b[1;33m\u001b[0m\u001b[1;33m\u001b[0m\u001b[0m\n\u001b[0m",
      "\u001b[1;32m<ipython-input-34-2576571e8c45>\u001b[0m in \u001b[0;36mshow_preds\u001b[1;34m()\u001b[0m\n\u001b[0;32m      9\u001b[0m     \u001b[1;31m#print(labels)\u001b[0m\u001b[1;33m\u001b[0m\u001b[1;33m\u001b[0m\u001b[1;33m\u001b[0m\u001b[0m\n\u001b[0;32m     10\u001b[0m     \u001b[1;31m#print(preds)\u001b[0m\u001b[1;33m\u001b[0m\u001b[1;33m\u001b[0m\u001b[1;33m\u001b[0m\u001b[0m\n\u001b[1;32m---> 11\u001b[1;33m     \u001b[0mshow_images\u001b[0m\u001b[1;33m(\u001b[0m\u001b[0mimages\u001b[0m\u001b[1;33m,\u001b[0m \u001b[0mlabels\u001b[0m\u001b[1;33m,\u001b[0m \u001b[0mpreds\u001b[0m\u001b[1;33m)\u001b[0m\u001b[1;33m\u001b[0m\u001b[1;33m\u001b[0m\u001b[0m\n\u001b[0m",
      "\u001b[1;32m<ipython-input-9-19f4f8c3e01c>\u001b[0m in \u001b[0;36mshow_images\u001b[1;34m(images, labels, preds)\u001b[0m\n\u001b[0;32m     16\u001b[0m \u001b[1;33m\u001b[0m\u001b[0m\n\u001b[0;32m     17\u001b[0m         \u001b[0mplt\u001b[0m\u001b[1;33m.\u001b[0m\u001b[0mxlabel\u001b[0m\u001b[1;33m(\u001b[0m\u001b[1;34mf'{class_names[int(labels[i].numpy())]}'\u001b[0m\u001b[1;33m)\u001b[0m\u001b[1;33m\u001b[0m\u001b[1;33m\u001b[0m\u001b[0m\n\u001b[1;32m---> 18\u001b[1;33m         \u001b[0mplt\u001b[0m\u001b[1;33m.\u001b[0m\u001b[0mylabel\u001b[0m\u001b[1;33m(\u001b[0m\u001b[1;34mf'{class_names[int(preds[i].numpy())]}'\u001b[0m\u001b[1;33m,\u001b[0m \u001b[0mcolor\u001b[0m\u001b[1;33m=\u001b[0m\u001b[0mcol\u001b[0m\u001b[1;33m)\u001b[0m\u001b[1;33m\u001b[0m\u001b[1;33m\u001b[0m\u001b[0m\n\u001b[0m\u001b[0;32m     19\u001b[0m     \u001b[0mplt\u001b[0m\u001b[1;33m.\u001b[0m\u001b[0mtight_layout\u001b[0m\u001b[1;33m(\u001b[0m\u001b[1;33m)\u001b[0m\u001b[1;33m\u001b[0m\u001b[1;33m\u001b[0m\u001b[0m\n\u001b[0;32m     20\u001b[0m     \u001b[0mplt\u001b[0m\u001b[1;33m.\u001b[0m\u001b[0mshow\u001b[0m\u001b[1;33m(\u001b[0m\u001b[1;33m)\u001b[0m\u001b[1;33m\u001b[0m\u001b[1;33m\u001b[0m\u001b[0m\n",
      "\u001b[1;31mIndexError\u001b[0m: list index out of range"
     ]
    },
    {
     "data": {
      "image/png": "[encoded data removed]",
      "text/plain": [
       "<Figure size 576x288 with 1 Axes>"
      ]
     },
     "metadata": {},
     "output_type": "display_data"
    }
   ],
   "source": [
    "show_preds()"
   ]
  },
  {
   "cell_type": "markdown",
   "metadata": {
    "papermill": {
     "duration": 0.023187,
     "end_time": "2021-02-08T05:36:49.313240",
     "exception": false,
     "start_time": "2021-02-08T05:36:49.290053",
     "status": "completed"
    },
    "tags": []
   },
   "source": [
    "# Training the Model"
   ]
  },
  {
   "cell_type": "code",
   "execution_count": null,
   "metadata": {
    "execution": {
     "iopub.execute_input": "2021-02-08T05:36:49.371607Z",
     "iopub.status.busy": "2021-02-08T05:36:49.370614Z",
     "iopub.status.idle": "2021-02-08T05:36:49.381706Z",
     "shell.execute_reply": "2021-02-08T05:36:49.382166Z"
    },
    "papermill": {
     "duration": 0.038935,
     "end_time": "2021-02-08T05:36:49.382366",
     "exception": false,
     "start_time": "2021-02-08T05:36:49.343431",
     "status": "completed"
    },
    "tags": []
   },
   "outputs": [],
   "source": [
    "def train(epochs):\n",
    "    print('Starting training..')\n",
    "    for e in range(0, epochs):\n",
    "        print('='*20)\n",
    "        print(f'Starting epoch {e + 1}/{epochs}')\n",
    "        print('='*20)\n",
    "\n",
    "        train_loss = 0.\n",
    "        val_loss = 0.  #Not computing val_loss since we'll be evaluating the model multiple times within one epoch\n",
    "        \n",
    "        model.train() # set model to training phase\n",
    "        \n",
    "        for train_step, (images, labels) in enumerate(dl_train):\n",
    "            optimizer.zero_grad()\n",
    "            if torch.cuda.device_count() > 1:\n",
    "                outputs = model(images.to(device))\n",
    "                labels = labels.to(device)\n",
    "            else:                \n",
    "                outputs = model(images)\n",
    "            loss = loss_fn(outputs, labels)\n",
    "            #Once we get the loss we need to take a gradient step\n",
    "            loss.backward() #Back propogation\n",
    "            optimizer.step() #Completes the gradient step by updating all the parameter values(We are using all parameters)\n",
    "            train_loss += loss.item() #Loss is a tensor which can't be added to train_loss so .item() converts it to float\n",
    "            \n",
    "            #Evaluating the model every 20th step\n",
    "            if train_step % 20 == 0:\n",
    "                print('Evaluating at step', train_step)\n",
    "\n",
    "                accuracy = 0\n",
    "\n",
    "                model.eval() # set model to eval phase\n",
    "\n",
    "                for val_step, (images, labels) in enumerate(dl_test):\n",
    "                    outputs = model(images)\n",
    "                    if torch.cuda.device_count() > 1:\n",
    "                        outputs = outputs.cpu() \n",
    "                    loss = loss_fn(outputs, labels)\n",
    "                    val_loss += loss.item()\n",
    "\n",
    "                    _, preds = torch.max(outputs, 1) # 1 corresponds to the values and ) corresponds to the no of examples\n",
    "                    accuracy += sum((preds == labels).numpy()) #adding correct preds to acc\n",
    "\n",
    "                val_loss /= (val_step + 1) # 15 test batches so this logic gives the value for each step\n",
    "                accuracy = accuracy/len(test_dataset)\n",
    "                print(f'Validation Loss: {val_loss:.4f}, Accuracy: {accuracy:.4f}')\n",
    "\n",
    "                show_preds()\n",
    "                model.train()\n",
    "\n",
    "                if accuracy >= 0.95:\n",
    "                    print('Performance condition satisfied, stopping..')\n",
    "                    return\n",
    "\n",
    "        train_loss /= (train_step + 1)\n",
    "\n",
    "        print(f'Training Loss: {train_loss:.4f}')\n",
    "    print('Training complete..')\n"
   ]
  },
  {
   "cell_type": "code",
   "execution_count": null,
   "metadata": {
    "execution": {
     "iopub.execute_input": "2021-02-08T05:36:49.445019Z",
     "iopub.status.busy": "2021-02-08T05:36:49.441349Z",
     "iopub.status.idle": "2021-02-08T05:39:33.280089Z",
     "shell.execute_reply": "2021-02-08T05:39:33.280591Z"
    },
    "papermill": {
     "duration": 163.874514,
     "end_time": "2021-02-08T05:39:33.280773",
     "exception": false,
     "start_time": "2021-02-08T05:36:49.406259",
     "status": "completed"
    },
    "tags": []
   },
   "outputs": [],
   "source": [
    "%%time\n",
    "\n",
    "train(epochs=1)"
   ]
  },
  {
   "cell_type": "markdown",
   "metadata": {
    "papermill": {
     "duration": 0.03943,
     "end_time": "2021-02-08T05:39:33.360463",
     "exception": false,
     "start_time": "2021-02-08T05:39:33.321033",
     "status": "completed"
    },
    "tags": []
   },
   "source": [
    "# Final Results"
   ]
  },
  {
   "cell_type": "code",
   "execution_count": null,
   "metadata": {
    "execution": {
     "iopub.execute_input": "2021-02-08T05:39:33.449847Z",
     "iopub.status.busy": "2021-02-08T05:39:33.448788Z",
     "iopub.status.idle": "2021-02-08T05:39:34.162368Z",
     "shell.execute_reply": "2021-02-08T05:39:34.161721Z"
    },
    "papermill": {
     "duration": 0.761483,
     "end_time": "2021-02-08T05:39:34.162522",
     "exception": false,
     "start_time": "2021-02-08T05:39:33.401039",
     "status": "completed"
    },
    "tags": []
   },
   "outputs": [],
   "source": [
    "show_preds()"
   ]
  }
 ],
 "metadata": {
  "kernelspec": {
   "display_name": "Python 3",
   "language": "python",
   "name": "python3"
  },
  "language_info": {
   "codemirror_mode": {
    "name": "ipython",
    "version": 3
   },
   "file_extension": ".py",
   "mimetype": "text/x-python",
   "name": "python",
   "nbconvert_exporter": "python",
   "pygments_lexer": "ipython3",
   "version": "3.8.6"
  },
  "papermill": {
   "default_parameters": {},
   "duration": 233.479454,
   "end_time": "2021-02-08T05:39:35.015679",
   "environment_variables": {},
   "exception": null,
   "input_path": "__notebook__.ipynb",
   "output_path": "__notebook__.ipynb",
   "parameters": {},
   "start_time": "2021-02-08T05:35:41.536225",
   "version": "2.2.2"
  },
  "widgets": {
   "application/vnd.jupyter.widget-state+json": {
    "state": {
     "5be92f39ea4446a691ee0e7580bbf0b6": {
      "model_module": "@jupyter-widgets/controls",
      "model_module_version": "1.5.0",
      "model_name": "HTMLModel",
      "state": {
       "_dom_classes": [],
       "_model_module": "@jupyter-widgets/controls",
       "_model_module_version": "1.5.0",
       "_model_name": "HTMLModel",
       "_view_count": null,
       "_view_module": "@jupyter-widgets/controls",
       "_view_module_version": "1.5.0",
       "_view_name": "HTMLView",
       "description": "",
       "description_tooltip": null,
       "layout": "IPY_MODEL_e0c47342eba64ad4b3bf20658027aada",
       "placeholder": "​",
       "style": "IPY_MODEL_9bb4645e4bd24c1db017c23e671110c4",
       "value": "100%"
      }
     },
     "75c4d737f06343d1ab7fc5dde1b0f423": {
      "model_module": "@jupyter-widgets/controls",
      "model_module_version": "1.5.0",
      "model_name": "FloatProgressModel",
      "state": {
       "_dom_classes": [],
       "_model_module": "@jupyter-widgets/controls",
       "_model_module_version": "1.5.0",
       "_model_name": "FloatProgressModel",
       "_view_count": null,
       "_view_module": "@jupyter-widgets/controls",
       "_view_module_version": "1.5.0",
       "_view_name": "ProgressView",
       "bar_style": "success",
       "description": "",
       "description_tooltip": null,
       "layout": "IPY_MODEL_eabfd72e5b324275a9fc21a477f6ea46",
       "max": 46827520,
       "min": 0,
       "orientation": "horizontal",
       "style": "IPY_MODEL_88e32dcb9bed4a9e9f64e145f8c83224",
       "value": 46827520
      }
     },
     "7c2bf274f3154d63afe5e91f51a8114d": {
      "model_module": "@jupyter-widgets/controls",
      "model_module_version": "1.5.0",
      "model_name": "DescriptionStyleModel",
      "state": {
       "_model_module": "@jupyter-widgets/controls",
       "_model_module_version": "1.5.0",
       "_model_name": "DescriptionStyleModel",
       "_view_count": null,
       "_view_module": "@jupyter-widgets/base",
       "_view_module_version": "1.2.0",
       "_view_name": "StyleView",
       "description_width": ""
      }
     },
     "88e32dcb9bed4a9e9f64e145f8c83224": {
      "model_module": "@jupyter-widgets/controls",
      "model_module_version": "1.5.0",
      "model_name": "ProgressStyleModel",
      "state": {
       "_model_module": "@jupyter-widgets/controls",
       "_model_module_version": "1.5.0",
       "_model_name": "ProgressStyleModel",
       "_view_count": null,
       "_view_module": "@jupyter-widgets/base",
       "_view_module_version": "1.2.0",
       "_view_name": "StyleView",
       "bar_color": null,
       "description_width": ""
      }
     },
     "9bb4645e4bd24c1db017c23e671110c4": {
      "model_module": "@jupyter-widgets/controls",
      "model_module_version": "1.5.0",
      "model_name": "DescriptionStyleModel",
      "state": {
       "_model_module": "@jupyter-widgets/controls",
       "_model_module_version": "1.5.0",
       "_model_name": "DescriptionStyleModel",
       "_view_count": null,
       "_view_module": "@jupyter-widgets/base",
       "_view_module_version": "1.2.0",
       "_view_name": "StyleView",
       "description_width": ""
      }
     },
     "cfd528f4f33940f6af19691f35ed6356": {
      "model_module": "@jupyter-widgets/controls",
      "model_module_version": "1.5.0",
      "model_name": "HBoxModel",
      "state": {
       "_dom_classes": [],
       "_model_module": "@jupyter-widgets/controls",
       "_model_module_version": "1.5.0",
       "_model_name": "HBoxModel",
       "_view_count": null,
       "_view_module": "@jupyter-widgets/controls",
       "_view_module_version": "1.5.0",
       "_view_name": "HBoxView",
       "box_style": "",
       "children": [
        "IPY_MODEL_5be92f39ea4446a691ee0e7580bbf0b6",
        "IPY_MODEL_75c4d737f06343d1ab7fc5dde1b0f423",
        "IPY_MODEL_f3d12d4ad9e9495faf76d56c5ce3c997"
       ],
       "layout": "IPY_MODEL_e9bb251dd5c244ff85e0d5366495447d"
      }
     },
     "e0c47342eba64ad4b3bf20658027aada": {
      "model_module": "@jupyter-widgets/base",
      "model_module_version": "1.2.0",
      "model_name": "LayoutModel",
      "state": {
       "_model_module": "@jupyter-widgets/base",
       "_model_module_version": "1.2.0",
       "_model_name": "LayoutModel",
       "_view_count": null,
       "_view_module": "@jupyter-widgets/base",
       "_view_module_version": "1.2.0",
       "_view_name": "LayoutView",
       "align_content": null,
       "align_items": null,
       "align_self": null,
       "border": null,
       "bottom": null,
       "display": null,
       "flex": null,
       "flex_flow": null,
       "grid_area": null,
       "grid_auto_columns": null,
       "grid_auto_flow": null,
       "grid_auto_rows": null,
       "grid_column": null,
       "grid_gap": null,
       "grid_row": null,
       "grid_template_areas": null,
       "grid_template_columns": null,
       "grid_template_rows": null,
       "height": null,
       "justify_content": null,
       "justify_items": null,
       "left": null,
       "margin": null,
       "max_height": null,
       "max_width": null,
       "min_height": null,
       "min_width": null,
       "object_fit": null,
       "object_position": null,
       "order": null,
       "overflow": null,
       "overflow_x": null,
       "overflow_y": null,
       "padding": null,
       "right": null,
       "top": null,
       "visibility": null,
       "width": null
      }
     },
     "e9bb251dd5c244ff85e0d5366495447d": {
      "model_module": "@jupyter-widgets/base",
      "model_module_version": "1.2.0",
      "model_name": "LayoutModel",
      "state": {
       "_model_module": "@jupyter-widgets/base",
       "_model_module_version": "1.2.0",
       "_model_name": "LayoutModel",
       "_view_count": null,
       "_view_module": "@jupyter-widgets/base",
       "_view_module_version": "1.2.0",
       "_view_name": "LayoutView",
       "align_content": null,
       "align_items": null,
       "align_self": null,
       "border": null,
       "bottom": null,
       "display": null,
       "flex": null,
       "flex_flow": null,
       "grid_area": null,
       "grid_auto_columns": null,
       "grid_auto_flow": null,
       "grid_auto_rows": null,
       "grid_column": null,
       "grid_gap": null,
       "grid_row": null,
       "grid_template_areas": null,
       "grid_template_columns": null,
       "grid_template_rows": null,
       "height": null,
       "justify_content": null,
       "justify_items": null,
       "left": null,
       "margin": null,
       "max_height": null,
       "max_width": null,
       "min_height": null,
       "min_width": null,
       "object_fit": null,
       "object_position": null,
       "order": null,
       "overflow": null,
       "overflow_x": null,
       "overflow_y": null,
       "padding": null,
       "right": null,
       "top": null,
       "visibility": null,
       "width": null
      }
     },
     "eabfd72e5b324275a9fc21a477f6ea46": {
      "model_module": "@jupyter-widgets/base",
      "model_module_version": "1.2.0",
      "model_name": "LayoutModel",
      "state": {
       "_model_module": "@jupyter-widgets/base",
       "_model_module_version": "1.2.0",
       "_model_name": "LayoutModel",
       "_view_count": null,
       "_view_module": "@jupyter-widgets/base",
       "_view_module_version": "1.2.0",
       "_view_name": "LayoutView",
       "align_content": null,
       "align_items": null,
       "align_self": null,
       "border": null,
       "bottom": null,
       "display": null,
       "flex": null,
       "flex_flow": null,
       "grid_area": null,
       "grid_auto_columns": null,
       "grid_auto_flow": null,
       "grid_auto_rows": null,
       "grid_column": null,
       "grid_gap": null,
       "grid_row": null,
       "grid_template_areas": null,
       "grid_template_columns": null,
       "grid_template_rows": null,
       "height": null,
       "justify_content": null,
       "justify_items": null,
       "left": null,
       "margin": null,
       "max_height": null,
       "max_width": null,
       "min_height": null,
       "min_width": null,
       "object_fit": null,
       "object_position": null,
       "order": null,
       "overflow": null,
       "overflow_x": null,
       "overflow_y": null,
       "padding": null,
       "right": null,
       "top": null,
       "visibility": null,
       "width": null
      }
     },
     "ef835539e06f4ec29f42cfcfa49e22a8": {
      "model_module": "@jupyter-widgets/base",
      "model_module_version": "1.2.0",
      "model_name": "LayoutModel",
      "state": {
       "_model_module": "@jupyter-widgets/base",
       "_model_module_version": "1.2.0",
       "_model_name": "LayoutModel",
       "_view_count": null,
       "_view_module": "@jupyter-widgets/base",
       "_view_module_version": "1.2.0",
       "_view_name": "LayoutView",
       "align_content": null,
       "align_items": null,
       "align_self": null,
       "border": null,
       "bottom": null,
       "display": null,
       "flex": null,
       "flex_flow": null,
       "grid_area": null,
       "grid_auto_columns": null,
       "grid_auto_flow": null,
       "grid_auto_rows": null,
       "grid_column": null,
       "grid_gap": null,
       "grid_row": null,
       "grid_template_areas": null,
       "grid_template_columns": null,
       "grid_template_rows": null,
       "height": null,
       "justify_content": null,
       "justify_items": null,
       "left": null,
       "margin": null,
       "max_height": null,
       "max_width": null,
       "min_height": null,
       "min_width": null,
       "object_fit": null,
       "object_position": null,
       "order": null,
       "overflow": null,
       "overflow_x": null,
       "overflow_y": null,
       "padding": null,
       "right": null,
       "top": null,
       "visibility": null,
       "width": null
      }
     },
     "f3d12d4ad9e9495faf76d56c5ce3c997": {
      "model_module": "@jupyter-widgets/controls",
      "model_module_version": "1.5.0",
      "model_name": "HTMLModel",
      "state": {
       "_dom_classes": [],
       "_model_module": "@jupyter-widgets/controls",
       "_model_module_version": "1.5.0",
       "_model_name": "HTMLModel",
       "_view_count": null,
       "_view_module": "@jupyter-widgets/controls",
       "_view_module_version": "1.5.0",
       "_view_name": "HTMLView",
       "description": "",
       "description_tooltip": null,
       "layout": "IPY_MODEL_ef835539e06f4ec29f42cfcfa49e22a8",
       "placeholder": "​",
       "style": "IPY_MODEL_7c2bf274f3154d63afe5e91f51a8114d",
       "value": " 44.7M/44.7M [00:00&lt;00:00, 61.1MB/s]"
      }
     }
    },
    "version_major": 2,
    "version_minor": 0
   }
  }
 },
 "nbformat": 4,
 "nbformat_minor": 4
}
